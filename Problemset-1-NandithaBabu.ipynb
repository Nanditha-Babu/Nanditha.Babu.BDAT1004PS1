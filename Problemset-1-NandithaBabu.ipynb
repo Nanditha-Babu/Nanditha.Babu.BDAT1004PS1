{
 "cells": [
  {
   "cell_type": "code",
   "execution_count": null,
   "id": "a66eb018",
   "metadata": {},
   "outputs": [],
   "source": [
    "Question1 : what data type is each of the following? 5, 5.0, 5>1, '5', 5*2, '5'*'2', '5'+'2', 5/2, 5%2, {5,2,1}, 5==3, pi(the number)"
   ]
  },
  {
   "cell_type": "code",
   "execution_count": 8,
   "id": "8ee0d034",
   "metadata": {},
   "outputs": [
    {
     "name": "stdout",
     "output_type": "stream",
     "text": [
      "Value: 5, Data TypeSystem.Int32\n",
      "Value: 5, Data TypeSystem.Double\n",
      "Value: True, Data TypeSystem.Boolean\n",
      "Value: 5, Data TypeSystem.Char\n",
      "Value: 10, Data TypeSystem.Int32\n",
      "Value: 106, Data TypeSystem.Int32\n",
      "Value: 2, Data TypeSystem.Int32\n",
      "Value: 1, Data TypeSystem.Int32\n",
      "Value: False, Data TypeSystem.Boolean\n",
      "Value: 3.141592653589793, Data TypeSystem.Double\n",
      "System.Int32[]\n"
     ]
    }
   ],
   "source": [
    "object[] dataTypes = new object[]\n",
    "{\n",
    "    5, 5.0, 5>1, '5', 5 * 2, '5' * 2, 5/2, 5%2, 5==3, Math.PI\n",
    "};\n",
    "\n",
    "foreach (var item in dataTypes)\n",
    "{\n",
    "    Console.WriteLine($\"Value: {item}, Data Type{item.GetType()}\");\n",
    "}\n",
    "\n",
    "int[] my_arr = {5,2,1};\n",
    "Console.WriteLine(my_arr.GetType());"
   ]
  },
  {
   "cell_type": "code",
   "execution_count": null,
   "id": "e8518461",
   "metadata": {},
   "outputs": [],
   "source": [
    "Question2 : Write (and evaluate) C# expressions that answer these questions:\n",
    "\n",
    "a. How many letters are there in 'Supercalifragilisticexpialidocious'?\n",
    "\n",
    "b. Does 'Supercalifragilisticexpialidocious' contain 'ice' as a substring?\n",
    "\n",
    "c. Which of the following words is the longest: Supercalifragilisticexpialidocious, Honorificabilitudinitatibus, or Bababadalgharaghtakamminarronnkonn?\n",
    "\n",
    "d. Which composer comes first in the dictionary: 'Berlioz', 'Borodin', 'Brian', 'Bartok', 'Bellini', 'Buxtehude', 'Bernstein'. Which one comes last?"
   ]
  },
  {
   "cell_type": "code",
   "execution_count": 16,
   "id": "7ed74948",
   "metadata": {},
   "outputs": [
    {
     "name": "stdout",
     "output_type": "stream",
     "text": [
      "Letters in Supercalifragilisticexpialidocious is 34\n",
      "Does Supercalifragilisticexpialidocious contains 'ice': True\n",
      "The longest word is: Supercalifragilisticexpialidocious\n",
      "Alphabetically first composer: Bartok\n",
      "Alphabetically lasst composer: Buxtehude\n"
     ]
    }
   ],
   "source": [
    "//a. checking the length of a string\n",
    "var word = \"Supercalifragilisticexpialidocious\";\n",
    "int length = word.Length;\n",
    "Console.WriteLine($\"Letters in {word} is {length}\");\n",
    "\n",
    "//b. checking if the length contains a substring 'ice'\n",
    "bool contain_ice = word.Contains(\"ice\");\n",
    "Console.WriteLine($\"Does {word} contains 'ice': {contain_ice}\");\n",
    "\n",
    "//c. checking the longest word out of the three given strings\n",
    "string[] words = {\"Supercalifragilisticexpialidocious\", \"Honorificabilitudinitatibus\", \"Bababadalgharaghtakamminarronnkonn\"};\n",
    "\n",
    "string longest_word = words[0];\n",
    "foreach (string i in words)\n",
    "{\n",
    "    if(i.Length > longest_word.Length)\n",
    "    {\n",
    "        longest_word = i;\n",
    "    }\n",
    "    \n",
    "}\n",
    "Console.WriteLine($\"The longest word is: {longest_word}\");\n",
    "\n",
    "//d. sorting the given list of names\n",
    "string[] composers = {\"Berlioz\", \"Borodin\", \"Brian\", \"Bartok\", \"Bellini\", \"Buxtehude\", \"Bernstein\"};\n",
    "Array.Sort(composers);\n",
    "int max_length = composers.Length;\n",
    "Console.WriteLine($\"Alphabetically first composer: {composers[0]}\");\n",
    "Console.WriteLine($\"Alphabetically lasst composer: {composers[max_length-1]}\");"
   ]
  },
  {
   "cell_type": "code",
   "execution_count": null,
   "id": "b9f5637c",
   "metadata": {},
   "outputs": [],
   "source": [
    "Question3 : Implement function triangleArea(a,b,c) that takes as input the lengths of the 3 sides of a triangle and returns the area of the triangle. By Heron's formula, the area of a triangle with side lengths a, b, and c is sqrt(s(s - a)(s -b)(s -c)), where s = (a+b+c)/2\n",
    "\n",
    "for triangleArea(2,2,2) 1.7320508075688772"
   ]
  },
  {
   "cell_type": "code",
   "execution_count": 4,
   "id": "e7d95b4f",
   "metadata": {},
   "outputs": [
    {
     "data": {
      "text/plain": [
       "1.7320508075688772"
      ]
     },
     "execution_count": 4,
     "metadata": {},
     "output_type": "execute_result"
    }
   ],
   "source": [
    "static double triangleArea(double a, double b, double c)\n",
    "{\n",
    "    // Calculate the semi-perimeter (s)\n",
    "    double s = (a + b + c) / 2.0;\n",
    "\n",
    "    // Calculate the area using Herons formula\n",
    "    double area = Math.Sqrt(s * (s - a) * (s - b) * (s - c));\n",
    "    return area;\n",
    "}\n",
    "triangleArea(2,2,2)"
   ]
  },
  {
   "cell_type": "code",
   "execution_count": null,
   "id": "4dca9653",
   "metadata": {},
   "outputs": [],
   "source": [
    "Question4 : Write a program in C# Sharp to separate odd and even integers in separate arrays. Go to the editor Test Data : Input the number of elements to be stored in the array :5 Input 5 elements in the array : element - 0 : 25 element - 1 : 47 element - 2 : 42 element - 3 : 56 element - 4 : 32 Expected Output: The Even elements are: 42 56 32 The Odd elements are : 25 47"
   ]
  },
  {
   "cell_type": "code",
   "execution_count": 3,
   "id": "e5e6d029",
   "metadata": {},
   "outputs": [
    {
     "name": "stdout",
     "output_type": "stream",
     "text": [
      "total number of elements are 5 as follows:\n",
      "25 47 42 56 32 \n",
      "The even elements are: \n",
      "42 56 32 \n",
      "The odd elements are: \n",
      "25 47 "
     ]
    }
   ],
   "source": [
    "int[] numbers = {25, 47, 42, 56, 32}; \n",
    "Console.WriteLine($\"total number of elements are {numbers.Length} as follows:\");\n",
    "foreach (int num in numbers)\n",
    "{\n",
    "    Console.Write(num + \" \");\n",
    "}\n",
    "int[] oddArray = new int[numbers.Length];\n",
    "int[] evenArray = new int[numbers.Length];\n",
    "\n",
    "int odd_count = 0;\n",
    "int even_count = 0;\n",
    "\n",
    "foreach (int num in numbers)\n",
    "{\n",
    "    if (num % 2 == 0)\n",
    "    {\n",
    "        evenArray[even_count] = num;\n",
    "        even_count++;\n",
    "    }\n",
    "    \n",
    "    else\n",
    "    {\n",
    "        oddArray[odd_count] = num;\n",
    "        odd_count++;\n",
    "    }\n",
    "}\n",
    "\n",
    "Console.WriteLine(\"\\nThe even elements are: \");\n",
    "foreach (int even in evenArray)\n",
    "{\n",
    "    if (even == 0)\n",
    "    {\n",
    "        continue;\n",
    "    }\n",
    "    Console.Write(even + \" \");\n",
    "}\n",
    "\n",
    "Console.WriteLine(\"\\nThe odd elements are: \");\n",
    "foreach (int odd in oddArray)\n",
    "{\n",
    "    if (odd == 0)\n",
    "    {\n",
    "        continue;\n",
    "    }\n",
    "    Console.Write(odd + \" \");\n",
    "}"
   ]
  },
  {
   "cell_type": "code",
   "execution_count": null,
   "id": "49d6dc4c",
   "metadata": {},
   "outputs": [],
   "source": [
    "Question5 : a. Write a function inside(x,y,x1,y1,x2,y2) that returns True or False depending on whether the point (x,y) lies in the rectangle with lower left corner (x1,y1) and upper right corner (x2,y2).\n",
    "\n",
    "inside(1,1,0,0,2,3)\n",
    "\n",
    "True\n",
    "\n",
    "inside(-1,-1,0,0,2,3)\n",
    "\n",
    "False\n",
    "\n",
    "b. Use function inside() from part a. to write an expression that tests whether the point (1,1) lies in both of the following rectangles: one with lower left corner (0.3, 0.5) and upper right corner (1.1, 0.7) and the other with lower left corner (0.5, 0.2) and upper right corner (1.1, 2)."
   ]
  },
  {
   "cell_type": "code",
   "execution_count": 5,
   "id": "548203ba",
   "metadata": {},
   "outputs": [
    {
     "name": "stdout",
     "output_type": "stream",
     "text": [
      "Is point (1,1) in rectangel |(0,0), (2,3)|  ?\n",
      "True\n",
      "Is point (-1,-1) in rectangel |(0,0), (2,3)|  ?\n",
      "False\n",
      "\n",
      "Checking for (1,1) in rectangles |(0.3,0.5),(1.1,0.7)| and |(0.5,0.2),(1.1,2)|\n",
      "The given point doesn't lie in both triangles\n"
     ]
    }
   ],
   "source": [
    "// inside function for part a\n",
    "static bool Inside(double x, double y, double x1, double y1, double x2, double y2)\n",
    "{\n",
    "    return (x1 < x && x < x2 && y1 < y && y < y2);\n",
    "}\n",
    "\n",
    "Console.WriteLine(\"Is point (1,1) in rectangel |(0,0), (2,3)|  ?\");\n",
    "bool a1 = Inside(1,1,0,0,2,3);\n",
    "Console.WriteLine(a1);\n",
    "\n",
    "Console.WriteLine(\"Is point (-1,-1) in rectangel |(0,0), (2,3)|  ?\");\n",
    "bool a2 = Inside(-1,-1,0,0,2,3);\n",
    "Console.WriteLine(a2+\"\\n\");\n",
    "\n",
    "\n",
    "// check if a point is in both rectangles\n",
    "Console.WriteLine(\"Checking for (1,1) in rectangles |(0.3,0.5),(1.1,0.7)| and |(0.5,0.2),(1.1,2)|\");\n",
    "bool rec1 = Inside(1, 1, 0.3, 0.5, 1.1, 0.7);\n",
    "bool rec2 = Inside(1, 1, 0.5, 0.2, 1.1, 2);\n",
    "\n",
    "if (rec1 && rec2)\n",
    "{\n",
    "    Console.WriteLine(\"The given point lies in both triangles\");\n",
    "}\n",
    "\n",
    "else\n",
    "{\n",
    "    Console.WriteLine(\"The given point doesn't lie in both triangles\");\n",
    "}"
   ]
  },
  {
   "cell_type": "code",
   "execution_count": null,
   "id": "4235ade7",
   "metadata": {},
   "outputs": [],
   "source": [
    "Question6 : You can turn a word into pig-Latin using the following two rules (simplified): • If the word starts with a consonant, move that letter to the end and append 'ay'. For example, 'happy' becomes 'appyhay' and 'pencil' becomes 'encilpay'. • If the word starts with a vowel, simply append 'way' to the end of the word. For example, 'enter' becomes 'enterway' and 'other' becomes 'otherway' . For our purposes, there are 5 vowels: a, e, i, o, u (so we count y as a consonant). Write a function pig() that takes a word (i.e., a string) as input and returns its pigLatin form. Your function should still work if the input word contains upper case characters. Your output should always be lower case however.\n",
    "\n",
    "pig('happy')\n",
    "\n",
    "'appyhay'\n",
    "\n",
    "pig('Enter')\n",
    "\n",
    "'enterway'"
   ]
  },
  {
   "cell_type": "code",
   "execution_count": 31,
   "id": "b3a110f7",
   "metadata": {},
   "outputs": [
    {
     "name": "stdout",
     "output_type": "stream",
     "text": [
      "appyhay\n",
      "enterway\n"
     ]
    }
   ],
   "source": [
    "def pig(word):\n",
    "    word = word.lower()\n",
    "    if word[0] in 'aeiou':\n",
    "        return word + 'way'\n",
    "    else:\n",
    "        for index, letter in enumerate(word):\n",
    "            if letter in 'aeiou':\n",
    "                return word[index:] + word[:index] + 'ay'\n",
    "\n",
    "print(pig('happy')) \n",
    "print(pig('Enter'))"
   ]
  },
  {
   "cell_type": "code",
   "execution_count": null,
   "id": "8d640ec2",
   "metadata": {},
   "outputs": [],
   "source": [
    "Question7 : Python File bloodtype1.txt records blood-types of patients (A, B, AB, O or OO) at a clinic. Write a function bldcount() that reads the file with name \"name\" and reports (i.e., prints) how many patients there are in each bloodtype.\n",
    "\n",
    "bldcount('bloodtype.txt')\n",
    "\n",
    "There are 10 patients of blood type A. There is one patient of blood type B. There are 10 patients of blood type AB. There are 12 patients of blood type O. There are no patients of blood type OO."
   ]
  },
  {
   "cell_type": "code",
   "execution_count": 30,
   "id": "7da8ca54",
   "metadata": {},
   "outputs": [
    {
     "name": "stdout",
     "output_type": "stream",
     "text": [
      "There are 15 patients of blood type A.\n",
      "There is one patient of blood type B.\n",
      "There are 13 patients of blood type AB.\n",
      "There are 15 patients of blood type O.\n",
      "There are no patients of blood type OO.\n"
     ]
    }
   ],
   "source": [
    "def bldcount(filename):\n",
    "    bld_grp = {\"A\": 0, \"B\": 0, \"AB\": 0, \"O\": 0, \"OO\": 0}\n",
    "\n",
    "    try:\n",
    "        with open(filename, 'r') as file:\n",
    "            words = file.read().split()\n",
    "\n",
    "            for type in words:\n",
    "                blood_type = type.upper()\n",
    "                if blood_type in bld_grp:\n",
    "                    bld_grp[blood_type] += 1\n",
    "\n",
    "        # Print the count for each blood type\n",
    "        for blood_type, count in bld_grp.items():\n",
    "            if count == 1:\n",
    "                print(f'There is one patient of blood type {blood_type}.')\n",
    "            elif count > 1:\n",
    "                print(f'There are {count} patients of blood type {blood_type}.')\n",
    "            else:\n",
    "                print(f'There are no patients of blood type {blood_type}.')\n",
    "\n",
    "    except FileNotFoundError:\n",
    "        print(f\"File '{filename}' not found.\")\n",
    "\n",
    "bldcount('bloodtype1.txt')"
   ]
  },
  {
   "cell_type": "code",
   "execution_count": null,
   "id": "4c1a668d",
   "metadata": {},
   "outputs": [],
   "source": [
    "Question8 : Write a function curconv() that takes as input:\n",
    "\n",
    "a currency represented using a string (e.g., 'JPY' for the Japanese Yen or\n",
    "'EUR' for the Euro) 2. an amount and then converts and returns the amount in US dollars.\n",
    "\n",
    "curconv('EUR', 100)\n",
    "\n",
    "122.96544\n",
    "\n",
    "curconv('JPY', 100)\n",
    "\n",
    "1.241401"
   ]
  },
  {
   "cell_type": "code",
   "execution_count": 28,
   "id": "fd03ac1d",
   "metadata": {},
   "outputs": [
    {
     "name": "stdout",
     "output_type": "stream",
     "text": [
      "122.96544\n",
      "1.241401\n"
     ]
    }
   ],
   "source": [
    "def abstract(filename):\n",
    "    try:\n",
    "        #make a dictionary of data\n",
    "        curr_rate = {}\n",
    "        with open(filename, 'r') as file:\n",
    "            for line in file:\n",
    "                parts = line.split()\n",
    "                code, rate = parts[0], float(parts[1])\n",
    "                curr_rate[code] = rate\n",
    "    except FileNotFoundError:\n",
    "        print(f\"file {filename} not found.\")\n",
    "    return curr_rate\n",
    "   \n",
    "\n",
    "curr_rate = abstract(\"currencies.txt\")  \n",
    "\n",
    "def curconv(curr_code, amnt):\n",
    "    # find the code, get the exchange rate, multiply and get conversion\n",
    "    if curr_code in curr_rate:\n",
    "        return amnt * curr_rate[curr_code]\n",
    "    else:\n",
    "        print(\"currency code\" + curr_code + \" not found in the list\")\n",
    "   \n",
    "eur = curconv('EUR', 100)\n",
    "print(eur)\n",
    "\n",
    "jpy = curconv('JPY', 100)\n",
    "print(jpy)"
   ]
  },
  {
   "cell_type": "code",
   "execution_count": null,
   "id": "d61b1189",
   "metadata": {},
   "outputs": [],
   "source": [
    "Question9 : Each of the following will cause an exception (an error). Identify what type of exception each will cause.\n",
    "\n",
    "Trying to add incompatible variables, as in adding 6 + ‘a’\n",
    "\n",
    "Referring to the 12th item of a list that has only 10 items\n",
    "\n",
    "Using a value that is out of range for a function’s input, such as calling math.sqrt(-1.0)\n",
    "\n",
    "Using an undeclared variable, such as print(x) when x has not been defined\n",
    "\n",
    "Trying to open a file that does not exist, such as mistyping the file name or looking in the wrong directory."
   ]
  },
  {
   "cell_type": "code",
   "execution_count": 27,
   "id": "77962c8b",
   "metadata": {},
   "outputs": [
    {
     "ename": "TypeError",
     "evalue": "unsupported operand type(s) for +: 'int' and 'str'",
     "output_type": "error",
     "traceback": [
      "\u001b[1;31m---------------------------------------------------------------------------\u001b[0m",
      "\u001b[1;31mTypeError\u001b[0m                                 Traceback (most recent call last)",
      "Cell \u001b[1;32mIn[27], line 2\u001b[0m\n\u001b[0;32m      1\u001b[0m \u001b[38;5;66;03m# TypeError: unsupported operand type(s) for +: 'int' and 'str'\u001b[39;00m\n\u001b[1;32m----> 2\u001b[0m n \u001b[38;5;241m=\u001b[39m \u001b[38;5;241m6\u001b[39m \u001b[38;5;241m+\u001b[39m \u001b[38;5;124m'\u001b[39m\u001b[38;5;124ma\u001b[39m\u001b[38;5;124m'\u001b[39m\n\u001b[0;32m      4\u001b[0m \u001b[38;5;66;03m# IndexError: list index out of range\u001b[39;00m\n\u001b[0;32m      5\u001b[0m \u001b[38;5;28mlist\u001b[39m \u001b[38;5;241m=\u001b[39m [\u001b[38;5;241m1\u001b[39m,\u001b[38;5;241m2\u001b[39m,\u001b[38;5;241m3\u001b[39m,\u001b[38;5;241m4\u001b[39m,\u001b[38;5;241m5\u001b[39m,\u001b[38;5;241m67\u001b[39m,\u001b[38;5;241m8\u001b[39m,\u001b[38;5;241m9\u001b[39m,\u001b[38;5;241m10\u001b[39m]\n",
      "\u001b[1;31mTypeError\u001b[0m: unsupported operand type(s) for +: 'int' and 'str'"
     ]
    }
   ],
   "source": [
    "# TypeError: unsupported operand type(s) for +: 'int' and 'str'\n",
    "n = 6 + 'a'\n",
    "\n",
    "# IndexError: list index out of range\n",
    "list = [1,2,3,4,5,67,8,9,10]\n",
    "print(list[12])\n",
    "\n",
    "# ValueError: math domain error\n",
    "n = math.sqrt(-1.0)\n",
    "\n",
    "# NameError: name 'x' is not defined\n",
    "print(n)\n",
    "\n",
    "# FileNotFoundError: [Errno 2] No such file or directory: 'yueh.txt'\n",
    "with open('yueh.txt', 'r') as file:\n",
    "        content = file.read()\n"
   ]
  },
  {
   "cell_type": "code",
   "execution_count": null,
   "id": "193d10d6",
   "metadata": {},
   "outputs": [],
   "source": [
    "Question10 : Encryption is the process of hiding the meaning of a text by substituting letters in the message with other letters, according to some system. If the process is successful, no one but the intended recipient can understand the encrypted message. Cryptanalysis refers to attempts to undo the encryption, even if some details of the encryption are unknown (for example, if an encrypted message has been intercepted). The first step of cryptanalysis is often to build up a table of letter frequencies in the encrypted text.\n",
    "\n",
    "Assume that the string letters is already defined as 'abcdefghijklmnopqrstuvwxyz'. Write a function called frequencies() that takes a string as its only parameter, and returns a list of integers, showing the number of times each character appears in the text. Your function may ignore any characters that are not in letters.\n",
    "\n",
    "frequencies('The quick red fox got bored and went home.')\n",
    "\n",
    "[1, 1, 1, 3, 5, 1, 1, 2, 1, 0, 1, 0, 1, 2, 4, 0, 1, 2, 0, 2, 1, 0, 1, 1, 0, 0]\n",
    "\n",
    "frequencies('apple')"
   ]
  },
  {
   "cell_type": "code",
   "execution_count": 26,
   "id": "3d5b33a2",
   "metadata": {},
   "outputs": [
    {
     "name": "stdout",
     "output_type": "stream",
     "text": [
      "[1, 1, 1, 3, 5, 1, 1, 2, 1, 0, 1, 0, 1, 2, 4, 0, 1, 2, 0, 3, 1, 0, 1, 1, 0, 0]\n"
     ]
    },
    {
     "data": {
      "text/plain": [
       "[1, 0, 0, 0, 1, 0, 0, 0, 0, 0, 0, 1, 0, 0, 0, 2, 0, 0, 0, 0, 0, 0, 0, 0, 0, 0]"
      ]
     },
     "execution_count": 26,
     "metadata": {},
     "output_type": "execute_result"
    }
   ],
   "source": [
    "def frequencies(input):\n",
    "    letters = \"abcdefghijklmnopqrstuvwxyz\"\n",
    "    frequency = [0] * len(letters)\n",
    "    input = input.lower()\n",
    "    \n",
    "    for char in input:\n",
    "        if char in letters:\n",
    "            index = letters.index(char)\n",
    "            frequency[index]+=1\n",
    "    return frequency\n",
    "\n",
    "result1 = frequencies(\"The quick red fox got bored and went home.\")\n",
    "print(result1)\n",
    "\n",
    "frequencies(\"apple\")"
   ]
  },
  {
   "cell_type": "code",
   "execution_count": null,
   "id": "5334b3aa",
   "metadata": {},
   "outputs": [],
   "source": []
  }
 ],
 "metadata": {
  "kernelspec": {
   "display_name": ".NET (C#)",
   "language": "C#",
   "name": ".net-csharp"
  },
  "language_info": {
   "file_extension": ".cs",
   "mimetype": "text/x-csharp",
   "name": "C#",
   "pygments_lexer": "csharp",
   "version": "8.0"
  }
 },
 "nbformat": 4,
 "nbformat_minor": 5
}
